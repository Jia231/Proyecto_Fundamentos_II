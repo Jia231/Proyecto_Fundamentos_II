{
 "cells": [
  {
   "cell_type": "code",
   "execution_count": 3,
   "id": "2f9dcb5e",
   "metadata": {},
   "outputs": [
    {
     "name": "stdout",
     "output_type": "stream",
     "text": [
      "El archivo 'clientes.json' ha sido creado correctamente.\n",
      "Cliente editado con exito\n"
     ]
    }
   ],
   "source": [
    "import cliente as c\n",
    "\n",
    "# c.agregar_cliente(801123213, \"Yoel Arias\", \"test@test.com\", 21321321, \"Limon\" )\n",
    "# c.agregar_cliente(801423213, \"Mario Arias\", \"test@test.com\", 21321321, \"Limon\")\n",
    "\n",
    "    # {\n",
    "    #     \"cedula\": 801555213.0,\n",
    "    #     \"nombre_completo\": \"Marco Venegas\",\n",
    "    #     \"telefono\": 23132132.0,\n",
    "    #     \"correo\": \"marco@gmail.com\",\n",
    "    #     \"direccion\": \"\"\n",
    "    # }\n",
    "# c.agregar_cliente()\n",
    "c.editar_cliente()"
   ]
  },
  {
   "cell_type": "code",
   "execution_count": 1,
   "id": "b0523e5f",
   "metadata": {},
   "outputs": [
    {
     "name": "stdout",
     "output_type": "stream",
     "text": [
      "Usuario o contasena incorrecto\n"
     ]
    }
   ],
   "source": [
    "import usuario as us\n",
    "\n",
    "us.validar_usuario(\"hola\",\"fue\")\n"
   ]
  }
 ],
 "metadata": {
  "kernelspec": {
   "display_name": "base",
   "language": "python",
   "name": "python3"
  },
  "language_info": {
   "codemirror_mode": {
    "name": "ipython",
    "version": 3
   },
   "file_extension": ".py",
   "mimetype": "text/x-python",
   "name": "python",
   "nbconvert_exporter": "python",
   "pygments_lexer": "ipython3",
   "version": "3.12.7"
  }
 },
 "nbformat": 4,
 "nbformat_minor": 5
}
